{
  "nbformat": 4,
  "nbformat_minor": 0,
  "metadata": {
    "colab": {
      "provenance": [],
      "gpuType": "T4",
      "include_colab_link": true
    },
    "kernelspec": {
      "name": "python3",
      "display_name": "Python 3"
    },
    "language_info": {
      "name": "python"
    },
    "accelerator": "GPU",
    "widgets": {
      "application/vnd.jupyter.widget-state+json": {
        "bde5053649ac48dc95abb8dbcb13d223": {
          "model_module": "@jupyter-widgets/controls",
          "model_name": "HBoxModel",
          "model_module_version": "1.5.0",
          "state": {
            "_dom_classes": [],
            "_model_module": "@jupyter-widgets/controls",
            "_model_module_version": "1.5.0",
            "_model_name": "HBoxModel",
            "_view_count": null,
            "_view_module": "@jupyter-widgets/controls",
            "_view_module_version": "1.5.0",
            "_view_name": "HBoxView",
            "box_style": "",
            "children": [
              "IPY_MODEL_461c2c738a534908a9618d18f13a6c93",
              "IPY_MODEL_ab4bb18ceaf8422da9c5f381fcb1d3c8",
              "IPY_MODEL_73ba8c54c5504290ad34f64d7313e854"
            ],
            "layout": "IPY_MODEL_2b86a433b5b741dabca327ac4659c801"
          }
        },
        "461c2c738a534908a9618d18f13a6c93": {
          "model_module": "@jupyter-widgets/controls",
          "model_name": "HTMLModel",
          "model_module_version": "1.5.0",
          "state": {
            "_dom_classes": [],
            "_model_module": "@jupyter-widgets/controls",
            "_model_module_version": "1.5.0",
            "_model_name": "HTMLModel",
            "_view_count": null,
            "_view_module": "@jupyter-widgets/controls",
            "_view_module_version": "1.5.0",
            "_view_name": "HTMLView",
            "description": "",
            "description_tooltip": null,
            "layout": "IPY_MODEL_09e8afff67e345aca560bccd81cbf8e1",
            "placeholder": "​",
            "style": "IPY_MODEL_fce2cea5868b45308f48ba9076f8ad75",
            "value": ""
          }
        },
        "ab4bb18ceaf8422da9c5f381fcb1d3c8": {
          "model_module": "@jupyter-widgets/controls",
          "model_name": "FloatProgressModel",
          "model_module_version": "1.5.0",
          "state": {
            "_dom_classes": [],
            "_model_module": "@jupyter-widgets/controls",
            "_model_module_version": "1.5.0",
            "_model_name": "FloatProgressModel",
            "_view_count": null,
            "_view_module": "@jupyter-widgets/controls",
            "_view_module_version": "1.5.0",
            "_view_name": "ProgressView",
            "bar_style": "success",
            "description": "",
            "description_tooltip": null,
            "layout": "IPY_MODEL_77c4ede74d13429d8563d5327692f502",
            "max": 1,
            "min": 0,
            "orientation": "horizontal",
            "style": "IPY_MODEL_77a915fb099740b59c820c4c66525c29",
            "value": 0
          }
        },
        "73ba8c54c5504290ad34f64d7313e854": {
          "model_module": "@jupyter-widgets/controls",
          "model_name": "HTMLModel",
          "model_module_version": "1.5.0",
          "state": {
            "_dom_classes": [],
            "_model_module": "@jupyter-widgets/controls",
            "_model_module_version": "1.5.0",
            "_model_name": "HTMLModel",
            "_view_count": null,
            "_view_module": "@jupyter-widgets/controls",
            "_view_module_version": "1.5.0",
            "_view_name": "HTMLView",
            "description": "",
            "description_tooltip": null,
            "layout": "IPY_MODEL_b87d3852129a475f8d73e26a7fb9c0ce",
            "placeholder": "​",
            "style": "IPY_MODEL_49bbeb9460964e71bd3767125f9ae8cb",
            "value": " 0/0 [00:00&lt;?, ?it/s]"
          }
        },
        "2b86a433b5b741dabca327ac4659c801": {
          "model_module": "@jupyter-widgets/base",
          "model_name": "LayoutModel",
          "model_module_version": "1.2.0",
          "state": {
            "_model_module": "@jupyter-widgets/base",
            "_model_module_version": "1.2.0",
            "_model_name": "LayoutModel",
            "_view_count": null,
            "_view_module": "@jupyter-widgets/base",
            "_view_module_version": "1.2.0",
            "_view_name": "LayoutView",
            "align_content": null,
            "align_items": null,
            "align_self": null,
            "border": null,
            "bottom": null,
            "display": null,
            "flex": null,
            "flex_flow": null,
            "grid_area": null,
            "grid_auto_columns": null,
            "grid_auto_flow": null,
            "grid_auto_rows": null,
            "grid_column": null,
            "grid_gap": null,
            "grid_row": null,
            "grid_template_areas": null,
            "grid_template_columns": null,
            "grid_template_rows": null,
            "height": null,
            "justify_content": null,
            "justify_items": null,
            "left": null,
            "margin": null,
            "max_height": null,
            "max_width": null,
            "min_height": null,
            "min_width": null,
            "object_fit": null,
            "object_position": null,
            "order": null,
            "overflow": null,
            "overflow_x": null,
            "overflow_y": null,
            "padding": null,
            "right": null,
            "top": null,
            "visibility": null,
            "width": null
          }
        },
        "09e8afff67e345aca560bccd81cbf8e1": {
          "model_module": "@jupyter-widgets/base",
          "model_name": "LayoutModel",
          "model_module_version": "1.2.0",
          "state": {
            "_model_module": "@jupyter-widgets/base",
            "_model_module_version": "1.2.0",
            "_model_name": "LayoutModel",
            "_view_count": null,
            "_view_module": "@jupyter-widgets/base",
            "_view_module_version": "1.2.0",
            "_view_name": "LayoutView",
            "align_content": null,
            "align_items": null,
            "align_self": null,
            "border": null,
            "bottom": null,
            "display": null,
            "flex": null,
            "flex_flow": null,
            "grid_area": null,
            "grid_auto_columns": null,
            "grid_auto_flow": null,
            "grid_auto_rows": null,
            "grid_column": null,
            "grid_gap": null,
            "grid_row": null,
            "grid_template_areas": null,
            "grid_template_columns": null,
            "grid_template_rows": null,
            "height": null,
            "justify_content": null,
            "justify_items": null,
            "left": null,
            "margin": null,
            "max_height": null,
            "max_width": null,
            "min_height": null,
            "min_width": null,
            "object_fit": null,
            "object_position": null,
            "order": null,
            "overflow": null,
            "overflow_x": null,
            "overflow_y": null,
            "padding": null,
            "right": null,
            "top": null,
            "visibility": null,
            "width": null
          }
        },
        "fce2cea5868b45308f48ba9076f8ad75": {
          "model_module": "@jupyter-widgets/controls",
          "model_name": "DescriptionStyleModel",
          "model_module_version": "1.5.0",
          "state": {
            "_model_module": "@jupyter-widgets/controls",
            "_model_module_version": "1.5.0",
            "_model_name": "DescriptionStyleModel",
            "_view_count": null,
            "_view_module": "@jupyter-widgets/base",
            "_view_module_version": "1.2.0",
            "_view_name": "StyleView",
            "description_width": ""
          }
        },
        "77c4ede74d13429d8563d5327692f502": {
          "model_module": "@jupyter-widgets/base",
          "model_name": "LayoutModel",
          "model_module_version": "1.2.0",
          "state": {
            "_model_module": "@jupyter-widgets/base",
            "_model_module_version": "1.2.0",
            "_model_name": "LayoutModel",
            "_view_count": null,
            "_view_module": "@jupyter-widgets/base",
            "_view_module_version": "1.2.0",
            "_view_name": "LayoutView",
            "align_content": null,
            "align_items": null,
            "align_self": null,
            "border": null,
            "bottom": null,
            "display": null,
            "flex": null,
            "flex_flow": null,
            "grid_area": null,
            "grid_auto_columns": null,
            "grid_auto_flow": null,
            "grid_auto_rows": null,
            "grid_column": null,
            "grid_gap": null,
            "grid_row": null,
            "grid_template_areas": null,
            "grid_template_columns": null,
            "grid_template_rows": null,
            "height": null,
            "justify_content": null,
            "justify_items": null,
            "left": null,
            "margin": null,
            "max_height": null,
            "max_width": null,
            "min_height": null,
            "min_width": null,
            "object_fit": null,
            "object_position": null,
            "order": null,
            "overflow": null,
            "overflow_x": null,
            "overflow_y": null,
            "padding": null,
            "right": null,
            "top": null,
            "visibility": null,
            "width": "20px"
          }
        },
        "77a915fb099740b59c820c4c66525c29": {
          "model_module": "@jupyter-widgets/controls",
          "model_name": "ProgressStyleModel",
          "model_module_version": "1.5.0",
          "state": {
            "_model_module": "@jupyter-widgets/controls",
            "_model_module_version": "1.5.0",
            "_model_name": "ProgressStyleModel",
            "_view_count": null,
            "_view_module": "@jupyter-widgets/base",
            "_view_module_version": "1.2.0",
            "_view_name": "StyleView",
            "bar_color": null,
            "description_width": ""
          }
        },
        "b87d3852129a475f8d73e26a7fb9c0ce": {
          "model_module": "@jupyter-widgets/base",
          "model_name": "LayoutModel",
          "model_module_version": "1.2.0",
          "state": {
            "_model_module": "@jupyter-widgets/base",
            "_model_module_version": "1.2.0",
            "_model_name": "LayoutModel",
            "_view_count": null,
            "_view_module": "@jupyter-widgets/base",
            "_view_module_version": "1.2.0",
            "_view_name": "LayoutView",
            "align_content": null,
            "align_items": null,
            "align_self": null,
            "border": null,
            "bottom": null,
            "display": null,
            "flex": null,
            "flex_flow": null,
            "grid_area": null,
            "grid_auto_columns": null,
            "grid_auto_flow": null,
            "grid_auto_rows": null,
            "grid_column": null,
            "grid_gap": null,
            "grid_row": null,
            "grid_template_areas": null,
            "grid_template_columns": null,
            "grid_template_rows": null,
            "height": null,
            "justify_content": null,
            "justify_items": null,
            "left": null,
            "margin": null,
            "max_height": null,
            "max_width": null,
            "min_height": null,
            "min_width": null,
            "object_fit": null,
            "object_position": null,
            "order": null,
            "overflow": null,
            "overflow_x": null,
            "overflow_y": null,
            "padding": null,
            "right": null,
            "top": null,
            "visibility": null,
            "width": null
          }
        },
        "49bbeb9460964e71bd3767125f9ae8cb": {
          "model_module": "@jupyter-widgets/controls",
          "model_name": "DescriptionStyleModel",
          "model_module_version": "1.5.0",
          "state": {
            "_model_module": "@jupyter-widgets/controls",
            "_model_module_version": "1.5.0",
            "_model_name": "DescriptionStyleModel",
            "_view_count": null,
            "_view_module": "@jupyter-widgets/base",
            "_view_module_version": "1.2.0",
            "_view_name": "StyleView",
            "description_width": ""
          }
        }
      }
    }
  },
  "cells": [
    {
      "cell_type": "markdown",
      "metadata": {
        "id": "view-in-github",
        "colab_type": "text"
      },
      "source": [
        "<a href=\"https://colab.research.google.com/github/anujsahani01/EngMarBART/blob/main/Bidirectional(mr_en).ipynb\" target=\"_parent\"><img src=\"https://colab.research.google.com/assets/colab-badge.svg\" alt=\"Open In Colab\"/></a>"
      ]
    },
    {
      "cell_type": "code",
      "execution_count": null,
      "metadata": {
        "id": "p9-kSLAM1nZS"
      },
      "outputs": [],
      "source": [
        "!pip install datasets\n",
        "!pip install --upgrade accelerate\n",
        "!pip install wandb\n",
        "!pip install --no-cache-dir transformers sentencepiece\n",
        "!pip install evaluate\n",
        "!pip install rouge_score\n",
        "!pip install sacremoses\n",
        "!pip install fasttext\n",
        "!pip install sacrebleu"
      ]
    },
    {
      "cell_type": "code",
      "source": [
        "from google.colab import drive\n",
        "drive.mount('/content/drive')"
      ],
      "metadata": {
        "id": "dUITVkqM6nBw",
        "colab": {
          "base_uri": "https://localhost:8080/"
        },
        "outputId": "a7f8164c-e83d-416c-864d-ff4448135bb3"
      },
      "execution_count": null,
      "outputs": [
        {
          "output_type": "stream",
          "name": "stdout",
          "text": [
            "Mounted at /content/drive\n"
          ]
        }
      ]
    },
    {
      "cell_type": "code",
      "source": [
        "from huggingface_hub import notebook_login\n",
        "notebook_login()"
      ],
      "metadata": {
        "id": "QDLP91id6nSl"
      },
      "execution_count": null,
      "outputs": []
    },
    {
      "cell_type": "code",
      "source": [
        "!huggingface-cli login"
      ],
      "metadata": {
        "id": "jOHNlZy56nVb"
      },
      "execution_count": null,
      "outputs": []
    },
    {
      "cell_type": "code",
      "source": [
        "from datasets import load_dataset\n",
        "dataset = load_dataset(\"anujsahani01/processed_en_mr\")"
      ],
      "metadata": {
        "id": "vfaR8-Fl6nYE"
      },
      "execution_count": null,
      "outputs": []
    },
    {
      "cell_type": "code",
      "source": [
        "dataset"
      ],
      "metadata": {
        "id": "MGF1ZkHO6naW",
        "colab": {
          "base_uri": "https://localhost:8080/"
        },
        "outputId": "c5543e32-9457-4f48-dcef-dde0717ede31"
      },
      "execution_count": null,
      "outputs": [
        {
          "output_type": "execute_result",
          "data": {
            "text/plain": [
              "DatasetDict({\n",
              "    train: Dataset({\n",
              "        features: ['english', 'marathi'],\n",
              "        num_rows: 2637962\n",
              "    })\n",
              "    test: Dataset({\n",
              "        features: ['english', 'marathi'],\n",
              "        num_rows: 879321\n",
              "    })\n",
              "})"
            ]
          },
          "metadata": {},
          "execution_count": 6
        }
      ]
    },
    {
      "cell_type": "code",
      "source": [
        "from transformers import AutoTokenizer"
      ],
      "metadata": {
        "id": "ERggjMUh6n_L",
        "colab": {
          "base_uri": "https://localhost:8080/",
          "height": 86,
          "referenced_widgets": [
            "bde5053649ac48dc95abb8dbcb13d223",
            "461c2c738a534908a9618d18f13a6c93",
            "ab4bb18ceaf8422da9c5f381fcb1d3c8",
            "73ba8c54c5504290ad34f64d7313e854",
            "2b86a433b5b741dabca327ac4659c801",
            "09e8afff67e345aca560bccd81cbf8e1",
            "fce2cea5868b45308f48ba9076f8ad75",
            "77c4ede74d13429d8563d5327692f502",
            "77a915fb099740b59c820c4c66525c29",
            "b87d3852129a475f8d73e26a7fb9c0ce",
            "49bbeb9460964e71bd3767125f9ae8cb"
          ]
        },
        "outputId": "a2214f17-4c14-4213-ecdf-5a903d838a23"
      },
      "execution_count": null,
      "outputs": [
        {
          "output_type": "stream",
          "name": "stderr",
          "text": [
            "The cache for model files in Transformers v4.22.0 has been updated. Migrating your old cache. This is a one-time only operation. You can interrupt this and resume the migration later on by calling `transformers.utils.move_cache()`.\n"
          ]
        },
        {
          "output_type": "display_data",
          "data": {
            "text/plain": [
              "0it [00:00, ?it/s]"
            ],
            "application/vnd.jupyter.widget-view+json": {
              "version_major": 2,
              "version_minor": 0,
              "model_id": "bde5053649ac48dc95abb8dbcb13d223"
            }
          },
          "metadata": {}
        }
      ]
    },
    {
      "cell_type": "code",
      "source": [
        "tokenizer = AutoTokenizer.from_pretrained(\"facebook/mbart-large-50\", src_lang=\"mr_IN\", tgt_lang=\"en_XX\", model_max_length = 512)\n",
        "tokenizer.bos_token = tokenizer.eos_token"
      ],
      "metadata": {
        "id": "b67cBgqy6oB-"
      },
      "execution_count": null,
      "outputs": []
    },
    {
      "cell_type": "code",
      "source": [
        "tokenizer"
      ],
      "metadata": {
        "id": "jcYFH8mA6oSh"
      },
      "execution_count": null,
      "outputs": []
    },
    {
      "cell_type": "code",
      "source": [
        "special_tokens_dict = {\"eos_token\": \"<CLS>\"}\n",
        "\n",
        "num_added_toks = tokenizer.add_special_tokens(special_tokens_dict)\n",
        "print(\"We have added\", num_added_toks, \"tokens\")"
      ],
      "metadata": {
        "id": "ik0a00qe6oVm"
      },
      "execution_count": null,
      "outputs": []
    },
    {
      "cell_type": "code",
      "source": [
        "out = tokenizer(dataset['train']['marathi'][0], text_target =  dataset['train']['english'][0],  max_length= 20, padding = 'max_length', truncation=True, return_length = True, return_tensors = 'pt')"
      ],
      "metadata": {
        "id": "E3yKwDgs6oYX"
      },
      "execution_count": null,
      "outputs": []
    },
    {
      "cell_type": "code",
      "source": [
        "len(out['input_ids'][0])"
      ],
      "metadata": {
        "id": "-jhksnIy6oa2"
      },
      "execution_count": null,
      "outputs": []
    },
    {
      "cell_type": "code",
      "source": [
        "decoded_preds = tokenizer.batch_decode(out['input_ids'])\n",
        "print(decoded_preds)"
      ],
      "metadata": {
        "id": "8EHLNrXX6odX"
      },
      "execution_count": null,
      "outputs": []
    },
    {
      "cell_type": "code",
      "source": [
        "tokenizer.batch_decode(out['labels'])"
      ],
      "metadata": {
        "id": "Z6FGtWXe6ofn"
      },
      "execution_count": null,
      "outputs": []
    },
    {
      "cell_type": "code",
      "source": [
        "import numpy as np"
      ],
      "metadata": {
        "id": "a7FEnGUf6oiL"
      },
      "execution_count": null,
      "outputs": []
    },
    {
      "cell_type": "code",
      "source": [
        "max_length = 80\n",
        "context_length = 80\n",
        "\n",
        "def tokenize(data):\n",
        "  data = tokenizer(data['marathi'], text_target =  data['english'],  max_length= max_length, padding = 'max_length', truncation=True, return_length = True, return_tensors = 'pt')\n",
        "  inp_ids = []\n",
        "  if len(data['input_ids']) != 0:\n",
        "    for length, ids in zip(data[\"length\"], data[\"input_ids\"]):\n",
        "      inp_ids.append(ids)\n",
        "    label = []\n",
        "    for length, lb in zip(data[\"length\"], data[\"labels\"]):\n",
        "      label.append(lb)\n",
        "\n",
        "\n",
        "  return {\"input_ids\": inp_ids,\n",
        "          'labels' : label}"
      ],
      "metadata": {
        "id": "Qq3xzaRVYKnE"
      },
      "execution_count": null,
      "outputs": []
    },
    {
      "cell_type": "code",
      "source": [
        "tokenized_dataset = dataset.map(\n",
        "    tokenize,\n",
        "    batched=True,\n",
        "    remove_columns =  dataset[\"train\"].column_names,\n",
        ")"
      ],
      "metadata": {
        "id": "aD-Q3r8TYKqa"
      },
      "execution_count": null,
      "outputs": []
    },
    {
      "cell_type": "code",
      "source": [
        "tokenized_dataset"
      ],
      "metadata": {
        "id": "EXws_p7DYKts"
      },
      "execution_count": null,
      "outputs": []
    },
    {
      "cell_type": "code",
      "source": [
        "inp = tokenized_dataset['train']['input_ids']"
      ],
      "metadata": {
        "id": "5PU7i1WoYKwq"
      },
      "execution_count": null,
      "outputs": []
    },
    {
      "cell_type": "code",
      "source": [
        "arr = []\n",
        "df_final = pd.DataFrame()\n",
        "df_final['tokenized_eng'] = inp"
      ],
      "metadata": {
        "id": "DUMufj6tYKz7"
      },
      "execution_count": null,
      "outputs": []
    },
    {
      "cell_type": "code",
      "source": [
        "df_final['length'] = df_final['tokenized_eng'].apply(\n",
        "    lambda row: len(row)\n",
        ")"
      ],
      "metadata": {
        "id": "i5rAwRZ8YK24"
      },
      "execution_count": null,
      "outputs": []
    },
    {
      "cell_type": "code",
      "source": [
        "print(df_final['length'].min())\n",
        "print(df_final['length'].max())\n",
        "print(df_final['length'].min())"
      ],
      "metadata": {
        "id": "vle-KAuGYK5r"
      },
      "execution_count": null,
      "outputs": []
    },
    {
      "cell_type": "code",
      "source": [
        "! pip install -U neptune transformers"
      ],
      "metadata": {
        "id": "UUi-zCcHYK8d"
      },
      "execution_count": null,
      "outputs": []
    },
    {
      "cell_type": "code",
      "source": [
        "from getpass import getpass\n",
        "from transformers.integrations import NeptuneCallback\n",
        "import neptune\n",
        "token=my_api_token = getpass(\"Enter your Neptune API token:\")"
      ],
      "metadata": {
        "id": "9xx8lZIiYK-_"
      },
      "execution_count": null,
      "outputs": []
    },
    {
      "cell_type": "code",
      "source": [
        "my_project = \"anujsahani01/ITStudio\"\n",
        "run = neptune.init_run(\n",
        "    project=\"anujsahani01/ITStudio\",\n",
        "    api_token = 'eyJhcGlfYWRkcmVzcyI6Imh0dHBzOi8vYXBwLm5lcHR1bmUuYWkiLCJhcGlfdXJsIjoiaHR0cHM6Ly9hcHAubmVwdHVuZS5haSIsImFwaV9rZXkiOiJkMzNmZWY5My0yOGY1LTRiZDItODA1MS05ZTM3MTc0MTI2NTYifQ==',\n",
        "    source_files= [\"/content/drive/MyDrive/Mbart(Finetuning).ipynb\"]\n",
        ")\n",
        "\n",
        "\n",
        "neptune_callback = NeptuneCallback(run=run)\n",
        "# run[\"train_dataset\"].track_files(\"./train.csv\")\n"
      ],
      "metadata": {
        "id": "N_n9WIAvYLB3"
      },
      "execution_count": null,
      "outputs": []
    },
    {
      "cell_type": "code",
      "source": [
        "from transformers import AutoModel\n",
        "\n",
        "from transformers import AutoModelForSeq2SeqLM, AutoConfig\n",
        "model_checkpoint  = \"anujsahani01/finetuned_en2mr\"\n",
        "config = AutoConfig.from_pretrained(model_checkpoint, vocab_size=len(tokenizer), use_auth_token=True,)\n",
        "\n",
        "config.vocab_size = tokenizer.vocab_size\n",
        "model = AutoModelForSeq2SeqLM.from_pretrained(model_checkpoint, config = config, ignore_mismatched_sizes=True).to('cuda')\n",
        "model.resize_token_embeddings(len(tokenizer))"
      ],
      "metadata": {
        "id": "VPwYn6FEYLEq"
      },
      "execution_count": null,
      "outputs": []
    },
    {
      "cell_type": "code",
      "source": [
        "from transformers import DataCollatorForSeq2Seq\n",
        "data_collator = DataCollatorForSeq2Seq(tokenizer, model=model)"
      ],
      "metadata": {
        "id": "Xki7L565YLHQ"
      },
      "execution_count": null,
      "outputs": []
    },
    {
      "cell_type": "code",
      "source": [
        "! pip install evaluate"
      ],
      "metadata": {
        "id": "wx_TBu0_Yw9N"
      },
      "execution_count": null,
      "outputs": []
    },
    {
      "cell_type": "code",
      "source": [
        "import evaluate\n",
        "metric = evaluate.load(\"sacrebleu\")"
      ],
      "metadata": {
        "id": "zvFxujTuYxAe"
      },
      "execution_count": null,
      "outputs": []
    },
    {
      "cell_type": "code",
      "source": [
        "import numpy as np\n",
        "\n",
        "\n",
        "def compute_metrics(eval_preds):\n",
        "  preds, labels = eval_preds\n",
        "  # In case the model returns more than the prediction logits\n",
        "  if isinstance(preds, tuple):\n",
        "      preds = preds[0]\n",
        "\n",
        "  decoded_preds = tokenizer.batch_decode(preds, skip_special_tokens=True)\n",
        "\n",
        "  # Replace -100s in the labels as we can't decode them\n",
        "  labels = np.where(labels != -100, labels, tokenizer.pad_token_id)\n",
        "  decoded_labels = tokenizer.batch_decode(labels, skip_special_tokens=True)\n",
        "\n",
        "  # Some simple post-processing\n",
        "  decoded_preds = [pred.strip() for pred in decoded_preds]\n",
        "  decoded_labels = [[label.strip()] for label in decoded_labels]\n",
        "\n",
        "  result = metric.compute(predictions=decoded_preds, references=decoded_labels)\n",
        "  return {\"bleu\": result[\"score\"]}"
      ],
      "metadata": {
        "id": "L5t4Y4T9YxDK"
      },
      "execution_count": null,
      "outputs": []
    },
    {
      "cell_type": "code",
      "source": [
        "params = {'lr':0.001, 'max_steps': 10000, 'warmup_steps': 50, 'weight_decay': 0.01, 'per_device_train_batch_size': 12, 'per_device_eval_batch_size': 12, 'evaluation_strategy' :\"no\", 'save_total_limit' :1, 'num_train_epochs': 1, 'predict_with_generate' : True, 'fp16' : False, 'push_to_hub' : True, 'remove_unused_columns' :False, 'dropout': 0.5}\n",
        "# params = {'lr':0.001, 'max_steps': 8000, 'warmup_steps': 50, 'weight_decay': 0.01, 'per_device_train_batch_size': 12, 'per_device_eval_batch_size': 12, 'evaluation_strategy' :\"no\", 'save_total_limit' :1, 'num_train_epochs': 1, 'predict_with_generate' : True, 'fp16' : False, 'push_to_hub' : True, 'remove_unused_columns' :False, 'dropout': 0.5}"
      ],
      "metadata": {
        "id": "gF7nQAN-YxGC"
      },
      "execution_count": null,
      "outputs": []
    },
    {
      "cell_type": "code",
      "source": [
        "from transformers import Seq2SeqTrainingArguments, Seq2SeqTrainer\n",
        "\n",
        "args = Seq2SeqTrainingArguments(\n",
        "    f\"./bidirectional_translator\",\n",
        "    evaluation_strategy= params['evaluation_strategy'],\n",
        "    save_strategy=\"epoch\",\n",
        "    learning_rate= params['lr'] ,\n",
        "    per_device_train_batch_size=params['per_device_train_batch_size'],\n",
        "    per_device_eval_batch_size= params['per_device_eval_batch_size'],\n",
        "    warmup_steps = params['warmup_steps'],\n",
        "    weight_decay= params['weight_decay'],\n",
        "    save_total_limit= params['save_total_limit'],\n",
        "    num_train_epochs= params['num_train_epochs'],\n",
        "    predict_with_generate= params['predict_with_generate'],\n",
        "    fp16= params['fp16'],\n",
        "    push_to_hub= params['push_to_hub'],\n",
        "    max_steps = params['max_steps'],\n",
        "    remove_unused_columns= params['remove_unused_columns'],\n",
        "    report_to=\"neptune\",\n",
        "    # predict_with_generate = True\n",
        ")"
      ],
      "metadata": {
        "id": "YoDVF3nbYxIm"
      },
      "execution_count": null,
      "outputs": []
    },
    {
      "cell_type": "code",
      "source": [
        "neptune_callback = NeptuneCallback(run=run)"
      ],
      "metadata": {
        "id": "ItwyQTUSYxLn"
      },
      "execution_count": null,
      "outputs": []
    },
    {
      "cell_type": "code",
      "source": [
        "trainer = Seq2SeqTrainer(\n",
        "    model.to('cuda'),\n",
        "    args,\n",
        "    train_dataset=tokenized_dataset[\"train\"],\n",
        "    eval_dataset=tokenized_dataset[\"test\"],\n",
        "    data_collator=data_collator,\n",
        "    tokenizer=tokenizer,\n",
        "    compute_metrics=compute_metrics,)\n",
        "    # callbacks=[neptune_callback])"
      ],
      "metadata": {
        "id": "rxe7g0CTYxOL"
      },
      "execution_count": null,
      "outputs": []
    },
    {
      "cell_type": "code",
      "source": [
        "for cb in trainer.callback_handler.callbacks:\n",
        "  if isinstance(cb, NeptuneCallback):\n",
        "    trainer.callback_handler.remove_callback(cb)"
      ],
      "metadata": {
        "id": "Cw6SJY2CYxRG"
      },
      "execution_count": null,
      "outputs": []
    },
    {
      "cell_type": "code",
      "source": [
        "trainer.train()"
      ],
      "metadata": {
        "id": "ky1JHs78YLJ2"
      },
      "execution_count": null,
      "outputs": []
    },
    {
      "cell_type": "code",
      "source": [
        "metrics = trainer.state.log_history"
      ],
      "metadata": {
        "id": "lQZIPwrSY9YP"
      },
      "execution_count": null,
      "outputs": []
    },
    {
      "cell_type": "code",
      "source": [
        "for key, value in params.items():\n",
        "  run[key] = value"
      ],
      "metadata": {
        "id": "bPVkn39PY9er"
      },
      "execution_count": null,
      "outputs": []
    },
    {
      "cell_type": "code",
      "source": [
        "lr = []\n",
        "train_loss = []\n",
        "steps =  []\n",
        "epoch = []"
      ],
      "metadata": {
        "id": "51bVs3c4Y9hK"
      },
      "execution_count": null,
      "outputs": []
    },
    {
      "cell_type": "code",
      "source": [
        "for i in range(len(metrics)-1):\n",
        "  train_loss.append(metrics[i]['loss'])\n",
        "  steps.append(metrics[i]['step'])\n",
        "  lr.append(metrics[i]['learning_rate'])\n",
        "  epoch.append(metrics[i]['epoch'])"
      ],
      "metadata": {
        "id": "Iw3rNa_qY9j0"
      },
      "execution_count": null,
      "outputs": []
    },
    {
      "cell_type": "code",
      "source": [
        "for i in range(len(train_loss)):\n",
        "  run['train/loss'].append(train_loss[i])\n",
        "\n",
        "for i in range(len(epoch)):\n",
        "  run['epoch'].append(epoch[i])\n",
        "\n",
        "for i in range(len(lr)):\n",
        "  run[\"learning_rate\"].append(lr[i])\n",
        "\n",
        "for i in range(len(steps)):\n",
        "  run[\"steps\"].append(steps[i])"
      ],
      "metadata": {
        "id": "4IVugZ7iZCgr"
      },
      "execution_count": null,
      "outputs": []
    },
    {
      "cell_type": "code",
      "source": [
        "trainer.push_to_hub()"
      ],
      "metadata": {
        "id": "0oOj2Ei-ZCkS"
      },
      "execution_count": null,
      "outputs": []
    },
    {
      "cell_type": "code",
      "source": [
        "! pip install sacremoses"
      ],
      "metadata": {
        "id": "59Z7doIaZCmg"
      },
      "execution_count": null,
      "outputs": []
    },
    {
      "cell_type": "code",
      "source": [],
      "metadata": {
        "id": "3c8cfsJ2ZLX_"
      },
      "execution_count": null,
      "outputs": []
    }
  ]
}